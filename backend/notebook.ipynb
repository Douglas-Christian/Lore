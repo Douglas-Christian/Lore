{
 "cells": [
  {
   "cell_type": "code",
   "execution_count": 2,
   "id": "dbc4c9a3",
   "metadata": {},
   "outputs": [
    {
     "name": "stdout",
     "output_type": "stream",
     "text": [
      "DB_USER: None, DB_PASSWORD: None\n"
     ]
    }
   ],
   "source": [
    "import os\n",
    "print(f\"DB_USER: {os.getenv('DB_USER')}, DB_PASSWORD: {os.getenv('DB_PASSWORD')}\")"
   ]
  },
  {
   "cell_type": "code",
   "execution_count": 4,
   "id": "1ce313f1",
   "metadata": {},
   "outputs": [
    {
     "ename": "SyntaxError",
     "evalue": "invalid syntax (145934520.py, line 2)",
     "output_type": "error",
     "traceback": [
      "\u001b[1;36m  Cell \u001b[1;32mIn[4], line 2\u001b[1;36m\u001b[0m\n\u001b[1;33m    curl -X POST http://127.0.0.1:8000/llm/query/ -H \"Content-Type: application/json\" -d '{\"prompt\": \"Test prompt\"}'\u001b[0m\n\u001b[1;37m            ^\u001b[0m\n\u001b[1;31mSyntaxError\u001b[0m\u001b[1;31m:\u001b[0m invalid syntax\n"
     ]
    }
   ],
   "source": [
    "import requests\n",
    "curl -X POST http://127.0.0.1:8000/llm/query/ -H \"Content-Type: application/json\" -d '{\"prompt\": \"Test prompt\"}'"
   ]
  },
  {
   "cell_type": "code",
   "execution_count": null,
   "id": "8721bffa",
   "metadata": {},
   "outputs": [
    {
     "name": "stdout",
     "output_type": "stream",
     "text": [
      "{'error': 'Extra data: line 2 column 1 (char 94)'}\n"
     ]
    }
   ],
   "source": [
    "import requests\n",
    "\n",
    "url = \"http://127.0.0.1:8000/llm/query/\"\n",
    "payload = {\"prompt\": \"Write a detailed story about a brave knight who saves a village from a dragon.\"}\n",
    "headers = {\"Content-Type\": \"application/json\"}\n",
    "\n",
    "response = requests.post(url, json=payload, headers=headers)\n",
    "\n",
    "\n",
    "\n",
    "\n",
    "\n",
    "\n",
    "\n",
    "\n",
    "\n",
    "\n",
    "\n",
    "\n",
    "\n",
    "\n",
    "\n",
    "\n",
    "\n",
    "\n",
    "\n",
    "\n",
    "print(response.json())"
   ]
  },
  {
   "cell_type": "code",
   "execution_count": 3,
   "id": "fdef55a6",
   "metadata": {},
   "outputs": [
    {
     "ename": "SyntaxError",
     "evalue": "invalid syntax (3875637510.py, line 2)",
     "output_type": "error",
     "traceback": [
      "  \u001b[36mCell\u001b[39m\u001b[36m \u001b[39m\u001b[32mIn[3]\u001b[39m\u001b[32m, line 2\u001b[39m\n\u001b[31m    \u001b[39m\u001b[31mcurl http://localhost:11434/api/chat\u001b[39m\n         ^\n\u001b[31mSyntaxError\u001b[39m\u001b[31m:\u001b[39m invalid syntax\n"
     ]
    }
   ],
   "source": [
    "import requests\n",
    "curl http://localhost:11434/api/chat"
   ]
  },
  {
   "cell_type": "code",
   "execution_count": null,
   "id": "4b2e72b1",
   "metadata": {},
   "outputs": [],
   "source": []
  },
  {
   "cell_type": "code",
   "execution_count": null,
   "id": "d34ae20c",
   "metadata": {},
   "outputs": [],
   "source": [
    "import requests\n",
    "\n",
    "def test_retrieve_endpoint():\n",
    "    url = \"http://127.0.0.1:8000/retrieve/\"\n",
    "    params = {\"query\": \"leilon town council\"}\n",
    "    response = requests.get(url, params=params)\n",
    "    print(\"Status Code:\", response.status_code)\n",
    "    print(\"Response JSON:\", response.json())\n",
    "\n",
    "if __name__ == \"__main__\":\n",
    "    test_retrieve_endpoint()"
   ]
  }
 ],
 "metadata": {
  "kernelspec": {
   "display_name": ".venv",
   "language": "python",
   "name": "python3"
  },
  "language_info": {
   "codemirror_mode": {
    "name": "ipython",
    "version": 3
   },
   "file_extension": ".py",
   "mimetype": "text/x-python",
   "name": "python",
   "nbconvert_exporter": "python",
   "pygments_lexer": "ipython3",
   "version": "3.13.3"
  }
 },
 "nbformat": 4,
 "nbformat_minor": 5
}
